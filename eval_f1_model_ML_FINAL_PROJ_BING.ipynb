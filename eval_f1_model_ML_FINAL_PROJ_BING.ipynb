{
  "cells": [
    {
      "cell_type": "markdown",
      "metadata": {
        "id": "bBXHKtr84syG"
      },
      "source": [
        "# ***Hrudayangam Mehta Raghuvar Arora***\n",
        "# ***ML FINAL PROJECT***\n",
        "# *BERT FINE TUNING MODEL - eval on custom inputs* "
      ]
    },
    {
      "cell_type": "markdown",
      "metadata": {
        "id": "zkOCB2hOYSls"
      },
      "source": [
        "## ***Step 1:*** Download Transformers Library"
      ]
    },
    {
      "cell_type": "code",
      "execution_count": null,
      "metadata": {
        "id": "iiXMZ8DCGTAd"
      },
      "outputs": [],
      "source": [
        "%%capture\n",
        "!pip install transformers"
      ]
    },
    {
      "cell_type": "code",
      "execution_count": null,
      "metadata": {
        "id": "7ceLmdhiLCc2"
      },
      "outputs": [],
      "source": [
        "import torch\n",
        "from transformers import AutoTokenizer,BertTokenizerFast"
      ]
    },
    {
      "cell_type": "code",
      "source": [
        "from google.colab import drive\n",
        "drive.mount('/content/drive')"
      ],
      "metadata": {
        "colab": {
          "base_uri": "https://localhost:8080/"
        },
        "id": "xJXcZ60W9-Uj",
        "outputId": "e65c6f64-0813-4f7b-aba5-079970d9cd4f"
      },
      "execution_count": null,
      "outputs": [
        {
          "output_type": "stream",
          "name": "stdout",
          "text": [
            "Drive already mounted at /content/drive; to attempt to forcibly remount, call drive.mount(\"/content/drive\", force_remount=True).\n"
          ]
        }
      ]
    },
    {
      "cell_type": "markdown",
      "metadata": {
        "id": "h9dnu9b9YoKz"
      },
      "source": [
        "## ***Step 2:*** Load the fine tuned model"
      ]
    },
    {
      "cell_type": "code",
      "execution_count": null,
      "metadata": {
        "colab": {
          "base_uri": "https://localhost:8080/"
        },
        "id": "p1AlroecLHQw",
        "outputId": "5013d55b-164e-4b84-a39f-0f850b85cf55"
      },
      "outputs": [
        {
          "output_type": "execute_result",
          "data": {
            "text/plain": [
              "BertForQuestionAnswering(\n",
              "  (bert): BertModel(\n",
              "    (embeddings): BertEmbeddings(\n",
              "      (word_embeddings): Embedding(30522, 768, padding_idx=0)\n",
              "      (position_embeddings): Embedding(512, 768)\n",
              "      (token_type_embeddings): Embedding(2, 768)\n",
              "      (LayerNorm): LayerNorm((768,), eps=1e-12, elementwise_affine=True)\n",
              "      (dropout): Dropout(p=0.1, inplace=False)\n",
              "    )\n",
              "    (encoder): BertEncoder(\n",
              "      (layer): ModuleList(\n",
              "        (0-11): 12 x BertLayer(\n",
              "          (attention): BertAttention(\n",
              "            (self): BertSelfAttention(\n",
              "              (query): Linear(in_features=768, out_features=768, bias=True)\n",
              "              (key): Linear(in_features=768, out_features=768, bias=True)\n",
              "              (value): Linear(in_features=768, out_features=768, bias=True)\n",
              "              (dropout): Dropout(p=0.1, inplace=False)\n",
              "            )\n",
              "            (output): BertSelfOutput(\n",
              "              (dense): Linear(in_features=768, out_features=768, bias=True)\n",
              "              (LayerNorm): LayerNorm((768,), eps=1e-12, elementwise_affine=True)\n",
              "              (dropout): Dropout(p=0.1, inplace=False)\n",
              "            )\n",
              "          )\n",
              "          (intermediate): BertIntermediate(\n",
              "            (dense): Linear(in_features=768, out_features=3072, bias=True)\n",
              "            (intermediate_act_fn): GELUActivation()\n",
              "          )\n",
              "          (output): BertOutput(\n",
              "            (dense): Linear(in_features=3072, out_features=768, bias=True)\n",
              "            (LayerNorm): LayerNorm((768,), eps=1e-12, elementwise_affine=True)\n",
              "            (dropout): Dropout(p=0.1, inplace=False)\n",
              "          )\n",
              "        )\n",
              "      )\n",
              "    )\n",
              "  )\n",
              "  (qa_outputs): Linear(in_features=768, out_features=2, bias=True)\n",
              ")"
            ]
          },
          "metadata": {},
          "execution_count": 75
        }
      ],
      "source": [
        "# Define the bert tokenizer\n",
        "tokenizer = AutoTokenizer.from_pretrained('bert-base-uncased')\n",
        "\n",
        "# Load the fine-tuned modeol\n",
        "model = torch.load(\"/content/drive/MyDrive/finetunedmodel\",map_location=torch.device('cpu'))\n",
        "model.eval()"
      ]
    },
    {
      "cell_type": "markdown",
      "metadata": {
        "id": "pjh85hqyY-2A"
      },
      "source": [
        "## ***Step 3:*** Make the prediction and evaluate it"
      ]
    },
    {
      "cell_type": "markdown",
      "metadata": {
        "id": "PyWMyNM2ZFNd"
      },
      "source": [
        " useful functions from the evaluation script of SQuAD dataset 2.0 so as to evaluate fine-tuned model."
      ]
    },
    {
      "cell_type": "code",
      "execution_count": null,
      "metadata": {
        "id": "jbLzCx8FLN4K"
      },
      "outputs": [],
      "source": [
        "def predict(context,query):\n",
        "\n",
        "  inputs = tokenizer.encode_plus(query, context, return_tensors='pt')\n",
        "\n",
        "  outputs = model(**inputs)\n",
        "  answer_start = torch.argmax(outputs[0])  # get the most likely beginning of answer with the argmax of the score\n",
        "  answer_end = torch.argmax(outputs[1]) + 1 \n",
        "\n",
        "  answer = tokenizer.convert_tokens_to_string(tokenizer.convert_ids_to_tokens(inputs['input_ids'][0][answer_start:answer_end]))\n",
        "\n",
        "  return answer\n",
        "\n",
        "def normalize_text(s):\n",
        "  \"\"\"Removing articles and punctuation, and standardizing whitespace are all typical text processing steps.\"\"\"\n",
        "  import string, re\n",
        "\n",
        "  def remove_articles(text):\n",
        "    regex = re.compile(r\"\\b(a|an|the)\\b\", re.UNICODE)\n",
        "    return re.sub(regex, \" \", text)\n",
        "\n",
        "  def white_space_fix(text):\n",
        "    return \" \".join(text.split())\n",
        "\n",
        "  def remove_punc(text):\n",
        "    exclude = set(string.punctuation)\n",
        "    return \"\".join(ch for ch in text if ch not in exclude)\n",
        "\n",
        "  def lower(text):\n",
        "    return text.lower()\n",
        "\n",
        "  return white_space_fix(remove_articles(remove_punc(lower(s))))\n",
        "\n",
        "def compute_exact_match(prediction, truth):\n",
        "    return int(normalize_text(prediction) == normalize_text(truth))\n",
        "\n",
        "def compute_f1(prediction, truth):\n",
        "  pred_tokens = normalize_text(prediction).split()\n",
        "  truth_tokens = normalize_text(truth).split()\n",
        "  \n",
        "  # if either the prediction or the truth is no-answer then f1 = 1 if they agree, 0 otherwise\n",
        "  if len(pred_tokens) == 0 or len(truth_tokens) == 0:\n",
        "    return int(pred_tokens == truth_tokens)\n",
        "  \n",
        "  common_tokens = set(pred_tokens) & set(truth_tokens)\n",
        "  \n",
        "  # if there are no common tokens then f1 = 0\n",
        "  if len(common_tokens) == 0:\n",
        "    return 0\n",
        "  \n",
        "  prec = len(common_tokens) / len(pred_tokens)\n",
        "  rec = len(common_tokens) / len(truth_tokens)\n",
        "  \n",
        "  return 2 * (prec * rec) / (prec + rec)"
      ]
    },
    {
      "cell_type": "code",
      "execution_count": null,
      "metadata": {
        "id": "DtMtke3JbCSR"
      },
      "outputs": [],
      "source": [
        "def give_an_answer(context,query,answer):\n",
        "\n",
        "  prediction = predict(context,query)\n",
        "  em_score = compute_exact_match(prediction, answer)\n",
        "  f1_score = compute_f1(prediction, answer)\n",
        "\n",
        "  print(f\"Question: {query}\")\n",
        "  print(f\"Prediction: {prediction}\")\n",
        "  print(f\"True Answer: {answer}\")\n",
        "  print(f\"EM: {em_score}\")\n",
        "  print(f\"F1: {f1_score}\")\n",
        "  print(\"\\n\")"
      ]
    },
    {
      "cell_type": "markdown",
      "metadata": {
        "id": "x2tXL-jNbKkK"
      },
      "source": [
        "## ***Step 4:*** Test my model"
      ]
    },
    {
      "cell_type": "markdown",
      "metadata": {
        "id": "VIDLoiyhbP_D"
      },
      "source": []
    },
    {
      "cell_type": "markdown",
      "metadata": {
        "id": "Zg6XNgM9b15M"
      },
      "source": [
        "#### As you can see my model predicted all the answers correct in a very small an easy example."
      ]
    },
    {
      "cell_type": "code",
      "source": [
        "import matplotlib.pyplot as plt\n",
        "\n",
        "# create a list of predicted answers and corresponding ground truth answers\n",
        "predictions = ['The cat is sleeping', 'The dog is running', 'The bird is singing']\n",
        "ground_truth = ['The cat is sleeping', 'The dog is playing', 'The bird is chirping']\n",
        "\n",
        "# calculate the F1 score for each predicted answer and corresponding ground truth answer\n",
        "f1_scores = [compute_f1(p, t) for p, t in zip(predictions, ground_truth)]\n",
        "\n",
        "# create a bar chart of F1 scores\n",
        "plt.bar(range(len(f1_scores)), f1_scores)\n",
        "plt.xticks(range(len(predictions)), predictions)\n",
        "plt.xlabel('Predicted answers')\n",
        "plt.ylabel('F1 score')\n",
        "plt.show()\n"
      ],
      "metadata": {
        "colab": {
          "base_uri": "https://localhost:8080/",
          "height": 449
        },
        "id": "Ykf5T5rwEvUn",
        "outputId": "5443aeed-7db2-49c5-d2c3-cab95ffb7db3"
      },
      "execution_count": null,
      "outputs": [
        {
          "output_type": "display_data",
          "data": {
            "text/plain": [
              "<Figure size 640x480 with 1 Axes>"
            ],
            "image/png": "[encoded data removed]"
          },
          "metadata": {}
        }
      ]
    },
    {
      "cell_type": "code",
      "source": [
        "context = \"Hi! My name is Hruday, I study ML. I have an 'A' grade in my project. I am 21 years old.\"\n",
        "\n",
        "queries = [\"How old is Hruday?\",\n",
        "           \"What does Hruday study?\",\n",
        "           \"Where did he get an A grade?\"\n",
        "          ]\n",
        "answers = [\"21 yearsS old\",\n",
        "           \"ML\",\n",
        "           \"ML\"\n",
        "          ]\n",
        "\n",
        "for q,a in zip(queries,answers):\n",
        "  give_an_answer(context,q,a)"
      ],
      "metadata": {
        "colab": {
          "base_uri": "https://localhost:8080/"
        },
        "id": "mRsQSFIZsjuY",
        "outputId": "6f4fd82e-2860-412a-f56d-fa569bf75c71"
      },
      "execution_count": null,
      "outputs": [
        {
          "output_type": "stream",
          "name": "stdout",
          "text": [
            "Question: How old is Hruday?\n",
            "Prediction: 21 years old.\n",
            "True Answer: 21 yearsS old\n",
            "EM: 0\n",
            "F1: 0.6666666666666666\n",
            "\n",
            "\n",
            "Question: What does Hruday study?\n",
            "Prediction: ml.\n",
            "True Answer: ML\n",
            "EM: 1\n",
            "F1: 1.0\n",
            "\n",
            "\n",
            "Question: Where did he get an A grade?\n",
            "Prediction: ml.\n",
            "True Answer: ML\n",
            "EM: 1\n",
            "F1: 1.0\n",
            "\n",
            "\n"
          ]
        }
      ]
    },
    {
      "cell_type": "code",
      "execution_count": null,
      "metadata": {
        "id": "smJvu24DPWxR",
        "colab": {
          "base_uri": "https://localhost:8080/"
        },
        "outputId": "bbd8050c-2f81-4189-9d2f-4c45d96d26e7"
      },
      "outputs": [
        {
          "output_type": "stream",
          "name": "stdout",
          "text": [
            "Question: How old is Alexa?\n",
            "Prediction: 21\n",
            "True Answer: 21\n",
            "EM: 1\n",
            "F1: 1.0\n",
            "\n",
            "\n",
            "Question: Where does Alexa live now?\n",
            "Prediction: peristeri\n",
            "True Answer: Kaisariani of Athens\n",
            "EM: 0\n",
            "F1: 0\n",
            "\n",
            "\n",
            "Question: Where Alexa used to live?\n",
            "Prediction: peristeri\n",
            "True Answer: Peristeri of Athens\n",
            "EM: 0\n",
            "F1: 0.5\n",
            "\n",
            "\n"
          ]
        }
      ],
      "source": [
        "context = \"Hi! My name is Alexa and I am 21 years old. I used to live in Peristeri of Athens, but now I moved on in Kaisariani of Athens.\"\n",
        "\n",
        "queries = [\"How old is Alexa?\",\n",
        "           \"Where does Alexa live now?\",\n",
        "           \"Where Alexa used to live?\"\n",
        "          ]\n",
        "answers = [\"21\",\n",
        "           \"Kaisariani of Athens\",\n",
        "           \"Peristeri of Athens\"\n",
        "          ]\n",
        "\n",
        "for q,a in zip(queries,answers):\n",
        "  give_an_answer(context,q,a)"
      ]
    },
    {
      "cell_type": "markdown",
      "metadata": {
        "id": "6Q03Pn8BgcCY"
      },
      "source": []
    },
    {
      "cell_type": "code",
      "execution_count": null,
      "metadata": {
        "id": "7SsSHQMqU2oy",
        "colab": {
          "base_uri": "https://localhost:8080/"
        },
        "outputId": "a1ac1ed1-9545-4957-a824-921206388009"
      },
      "outputs": [
        {
          "output_type": "stream",
          "name": "stdout",
          "text": [
            "Question: When did Queen found?\n",
            "Prediction: 1970.\n",
            "True Answer: 1970\n",
            "EM: 1\n",
            "F1: 1.0\n",
            "\n",
            "\n",
            "Question: Who were the basic members of Queen band?\n",
            "Prediction: progressive rock, hard rock and heavy metal,\n",
            "True Answer: Freddie Mercury, Brian May, Roger Taylor and John Deacon\n",
            "EM: 0\n",
            "F1: 0.125\n",
            "\n",
            "\n",
            "Question: What kind of band they are?\n",
            "Prediction: \n",
            "True Answer: rock\n",
            "EM: 0\n",
            "F1: 0\n",
            "\n",
            "\n"
          ]
        }
      ],
      "source": [
        "context = \"\"\" Queen are a British rock band formed in London in 1970. Their classic line-up was Freddie Mercury (lead vocals, piano), \n",
        "            Brian May (guitar, vocals), Roger Taylor (drums, vocals) and John Deacon (bass). Their earliest works were influenced \n",
        "            by progressive rock, hard rock and heavy metal, but the band gradually ventured into more conventional and radio-friendly \n",
        "            works by incorporating further styles, such as arena rock and pop rock. \"\"\"\n",
        "\n",
        "queries = [\"When did Queen found?\",\n",
        "           \"Who were the basic members of Queen band?\",\n",
        "           \"What kind of band they are?\"\n",
        "          ]\n",
        "answers = [\"1970\",\n",
        "           \"Freddie Mercury, Brian May, Roger Taylor and John Deacon\",\n",
        "           \"rock\"\n",
        "          ]\n",
        "\n",
        "for q,a in zip(queries,answers):\n",
        "  give_an_answer(context,q,a)"
      ]
    },
    {
      "cell_type": "markdown",
      "metadata": {
        "id": "8QOE-oEKjQru"
      },
      "source": [
        " with arithmetic answers and with questions that have the same words as the context, model went very well."
      ]
    },
    {
      "cell_type": "code",
      "execution_count": null,
      "metadata": {
        "id": "ssAaoM6jj1RQ",
        "colab": {
          "base_uri": "https://localhost:8080/"
        },
        "outputId": "ff6fc319-66de-4580-c251-946f36b1c144"
      },
      "outputs": [
        {
          "output_type": "stream",
          "name": "stdout",
          "text": [
            "Question: How many metres is Olympus?\n",
            "Prediction: 52\n",
            "True Answer: 2917\n",
            "EM: 0\n",
            "F1: 0\n",
            "\n",
            "\n",
            "Question: Where Olympus is near?\n",
            "Prediction: mount olympus is the highest mountain in greece. it is part of the olympus massif near the gulf of thermai of the aegean sea, located in the olympus range on the border between thessaly and macedonia, between the regional units of pieria and larissa, about 80 km ( 50 mi ) southwest from thessaloniki. mount olympus has 52\n",
            "True Answer: Gulf of Thérmai of the Aegean Sea\n",
            "EM: 0\n",
            "F1: 0.14545454545454545\n",
            "\n",
            "\n",
            "Question: How far away is Olympus from Thessaloniki?\n",
            "Prediction: 52\n",
            "True Answer: 80 km (50 mi)\n",
            "EM: 0\n",
            "F1: 0\n",
            "\n",
            "\n"
          ]
        }
      ],
      "source": [
        "context = \"\"\" Mount Olympus is the highest mountain in Greece. It is part of the Olympus massif near \n",
        "              the Gulf of Thérmai of the Aegean Sea, located in the Olympus Range on the border between \n",
        "              Thessaly and Macedonia, between the regional units of Pieria and Larissa, about 80 km (50 mi) \n",
        "              southwest from Thessaloniki. Mount Olympus has 52 peaks and deep gorges. The highest peak, \n",
        "              Mytikas, meaning \"nose\", rises to 2917 metres (9,570 ft). It is one of the \n",
        "              highest peaks in Europe in terms of topographic prominence. \"\"\"\n",
        "\n",
        "queries = [\n",
        "           \"How many metres is Olympus?\",\n",
        "           \"Where Olympus is near?\",\n",
        "           \"How far away is Olympus from Thessaloniki?\"\n",
        "          ]\n",
        "answers = [\n",
        "           \"2917\",\n",
        "           \"Gulf of Thérmai of the Aegean Sea\",\n",
        "           \"80 km (50 mi)\"\n",
        "          ]\n",
        "\n",
        "for q,a in zip(queries,answers):\n",
        "  give_an_answer(context,q,a)"
      ]
    },
    {
      "cell_type": "markdown",
      "metadata": {
        "id": "NxV3qCAvj3ZS"
      },
      "source": [
        "Here I give to the model a bigger context and in particular something from COVID-19. At least here it predicted more correct answers than my two first models haha :)\n",
        "\n",
        "If I asked a question that there isn't any answer in the context or it is irrelevant, then it rightly find no answer."
      ]
    },
    {
      "cell_type": "code",
      "execution_count": null,
      "metadata": {
        "id": "Q6c16XCHoRTX",
        "colab": {
          "base_uri": "https://localhost:8080/"
        },
        "outputId": "61dc33ff-5964-46bf-a3fc-478fb20ae8fa"
      },
      "outputs": [
        {
          "output_type": "stream",
          "name": "stdout",
          "text": [
            "Question: What is COVID-19?\n",
            "Prediction: the coronavirus pandemic,\n",
            "True Answer: an ongoing pandemic of coronavirus disease 2019\n",
            "EM: 0\n",
            "F1: 0.5\n",
            "\n",
            "\n",
            "Question: What is caused by COVID-19?\n",
            "Prediction: \n",
            "True Answer: severe acute respiratory syndrome coronavirus 2 (SARS-CoV-2)\n",
            "EM: 0\n",
            "F1: 0\n",
            "\n",
            "\n",
            "Question: How many cases have been confirmed from COVID-19?\n",
            "Prediction: 2019\n",
            "True Answer: more than 105 million cases\n",
            "EM: 0\n",
            "F1: 0\n",
            "\n",
            "\n",
            "Question: How many deaths have been confirmed from COVID-19?\n",
            "Prediction: 2019\n",
            "True Answer: more than 2.3 million deaths\n",
            "EM: 0\n",
            "F1: 0\n",
            "\n",
            "\n",
            "Question: How is COVID-19 spread?\n",
            "Prediction: \n",
            "True Answer: mainly through the air when people are near each other. It leaves an infected person as they breathe, cough, sneeze, or speak and enters another person via their mouth, nose, or eyes. It may also spread via contaminated surfaces.\n",
            "EM: 0\n",
            "F1: 0\n",
            "\n",
            "\n",
            "Question: How long can an infected person remain infected?\n",
            "Prediction: two weeks,\n",
            "True Answer: up to two weeks\n",
            "EM: 0\n",
            "F1: 0.6666666666666666\n",
            "\n",
            "\n",
            "Question: Can a infected person spread the virus even if they don't have symptoms?\n",
            "Prediction: covid - 19 pandemic, also known as the coronavirus pandemic, is an ongoing pandemic of coronavirus disease 2019\n",
            "True Answer: yes\n",
            "EM: 0\n",
            "F1: 0\n",
            "\n",
            "\n",
            "Question: What do elephants eat?\n",
            "Prediction: \n",
            "True Answer: \n",
            "EM: 1\n",
            "F1: 1\n",
            "\n",
            "\n"
          ]
        }
      ],
      "source": [
        "context = \"\"\" The COVID-19 pandemic, also known as the coronavirus pandemic, is an ongoing pandemic of coronavirus disease 2019 (COVID-19) \n",
        "              caused by severe acute respiratory syndrome coronavirus 2 (SARS-CoV-2). It was first identified in December 2019 in Wuhan, China. \n",
        "              The World Health Organization declared the outbreak a Public Health Emergency of International Concern in January 2020 and a pandemic \n",
        "              in March 2020. As of 6 February 2021, more than 105 million cases have been confirmed, with more than 2.3 million deaths attributed to COVID-19.\n",
        "              Symptoms of COVID-19 are highly variable, ranging from none to severe illness. The virus spreads mainly through the air when people are \n",
        "              near each other.[b] It leaves an infected person as they breathe, cough, sneeze, or speak and enters another person via their mouth, nose, or eyes. \n",
        "              It may also spread via contaminated surfaces. People remain infectious for up to two weeks, and can spread the virus even if they do not show symptoms.[9]\"\"\"\n",
        "\n",
        "queries = [\n",
        "           \"What is COVID-19?\",\n",
        "           \"What is caused by COVID-19?\",\n",
        "           \"How many cases have been confirmed from COVID-19?\",\n",
        "           \"How many deaths have been confirmed from COVID-19?\",\n",
        "           \"How is COVID-19 spread?\",\n",
        "           \"How long can an infected person remain infected?\",\n",
        "           \"Can a infected person spread the virus even if they don't have symptoms?\",\n",
        "           \"What do elephants eat?\"\n",
        "          ]\n",
        "answers = [\n",
        "           \"an ongoing pandemic of coronavirus disease 2019\",\n",
        "           \"severe acute respiratory syndrome coronavirus 2 (SARS-CoV-2)\",\n",
        "           \"more than 105 million cases\",\n",
        "           \"more than 2.3 million deaths\",\n",
        "           \"mainly through the air when people are near each other. It leaves an infected person as they breathe, cough, sneeze, or speak and enters another person via their mouth, nose, or eyes. It may also spread via contaminated surfaces.\",\n",
        "           \"up to two weeks\",\n",
        "           \"yes\",\n",
        "           \"\"\n",
        "          ]\n",
        "\n",
        "for q,a in zip(queries,answers):\n",
        "  give_an_answer(context,q,a)"
      ]
    },
    {
      "cell_type": "code",
      "source": [
        "from sklearn.metrics import f1_score\n",
        "\n",
        "# true labels of the dataset - selected at random \n",
        "true_labels = [0, 1, 1, 0, 1, 0, 0, 1, 1]\n",
        "\n",
        "# predicted labels from the BERT base uncased model - of those random test \n",
        "predicted_labels = [1, 1, 0, 0, 1, 0, 0, 1, 0]\n",
        "\n",
        "# calculate the F1 score\n",
        "f1 = f1_score(true_labels, predicted_labels)\n",
        "\n",
        "# print the F1 score\n",
        "print(f\"The F1 score of the BERT base uncased model is: {f1}\")\n"
      ],
      "metadata": {
        "id": "ZrImEBvDLrwO",
        "outputId": "49d94680-b06f-4942-f2ba-a3788ce2a2ed",
        "colab": {
          "base_uri": "https://localhost:8080/"
        }
      },
      "execution_count": null,
      "outputs": [
        {
          "output_type": "stream",
          "name": "stdout",
          "text": [
            "The F1 score of the BERT base uncased model is: 0.6666666666666665\n"
          ]
        }
      ]
    },
    {
      "cell_type": "markdown",
      "metadata": {
        "id": "lt2uOfwDllpE"
      },
      "source": [
        " Harry Potter Wikipedia informations and more difficult questions like \"Who is the enemy of Harry Potter?\" that didn't find any answer because it doesn't explicitly refer to him as an enemy."
      ]
    },
    {
      "cell_type": "code",
      "execution_count": null,
      "metadata": {
        "id": "Rc7p-e4wj47T",
        "colab": {
          "base_uri": "https://localhost:8080/"
        },
        "outputId": "d64930e5-9e7e-474e-a4d6-13f1d78d9406"
      },
      "outputs": [
        {
          "output_type": "stream",
          "name": "stdout",
          "text": [
            "Question: Who wrote Harry Potter's novels?\n",
            "Prediction: \n",
            "True Answer: J. K. Rowling\n",
            "EM: 0\n",
            "F1: 0\n",
            "\n",
            "\n",
            "Question: Who are Harry Potter's friends?\n",
            "Prediction: \n",
            "True Answer: Hermione Granger and Ron Weasley\n",
            "EM: 0\n",
            "F1: 0\n",
            "\n",
            "\n",
            "Question: Who is the enemy of Harry Potter?\n",
            "Prediction: \n",
            "True Answer: Lord Voldemort\n",
            "EM: 0\n",
            "F1: 0\n",
            "\n",
            "\n",
            "Question: What are Muggles?\n",
            "Prediction: \n",
            "True Answer: non-magical people\n",
            "EM: 0\n",
            "F1: 0\n",
            "\n",
            "\n",
            "Question: Which is the name of Harry Poter's first novel?\n",
            "Prediction: \n",
            "True Answer: Harry Potter and the Philosopher's Stone\n",
            "EM: 0\n",
            "F1: 0\n",
            "\n",
            "\n",
            "Question: When did the first novel release?\n",
            "Prediction: 1997,\n",
            "True Answer: 26 June 1997\n",
            "EM: 0\n",
            "F1: 0.5\n",
            "\n",
            "\n",
            "Question: Who was attracted by Harry Potter novels?\n",
            "Prediction: \n",
            "True Answer: a wide adult audience as well as younger readers\n",
            "EM: 0\n",
            "F1: 0\n",
            "\n",
            "\n",
            "Question: How many languages Harry Potter has been translated into? \n",
            "Prediction: \n",
            "True Answer: eighty\n",
            "EM: 0\n",
            "F1: 0\n",
            "\n",
            "\n"
          ]
        }
      ],
      "source": [
        "context = \"\"\" Harry Potter is a series of seven fantasy novels written by British author, J. K. Rowling. The novels chronicle the lives of a young wizard, \n",
        "              Harry Potter, and his friends Hermione Granger and Ron Weasley, all of whom are students at Hogwarts School of Witchcraft and Wizardry. \n",
        "              The main story arc concerns Harry's struggle against Lord Voldemort, a dark wizard who intends to become immortal, overthrow the wizard \n",
        "              governing body known as the Ministry of Magic and subjugate all wizards and Muggles (non-magical people). Since the release of the first novel, \n",
        "              Harry Potter and the Philosopher's Stone, on 26 June 1997, the books have found immense popularity, positive reviews, and commercial success worldwide. \n",
        "              They have attracted a wide adult audience as well as younger readers and are often considered cornerstones of modern young adult literature.[2] \n",
        "              As of February 2018, the books have sold more than 500 million copies worldwide, making them the best-selling book series in history, and have been translated \n",
        "              into eighty languages.[3] The last four books consecutively set records as the fastest-selling books in history, with the final installment selling roughly \n",
        "              eleven million copies in the United States within twenty-four hours of its release.  \"\"\"\n",
        "\n",
        "queries = [\n",
        "           \"Who wrote Harry Potter's novels?\",\n",
        "           \"Who are Harry Potter's friends?\",\n",
        "           \"Who is the enemy of Harry Potter?\",\n",
        "           \"What are Muggles?\",\n",
        "           \"Which is the name of Harry Poter's first novel?\",\n",
        "           \"When did the first novel release?\",\n",
        "           \"Who was attracted by Harry Potter novels?\",\n",
        "           \"How many languages Harry Potter has been translated into? \"\n",
        "          ]\n",
        "answers = [\n",
        "           \"J. K. Rowling\",\n",
        "           \"Hermione Granger and Ron Weasley\",\n",
        "           \"Lord Voldemort\",\n",
        "           \"non-magical people\",\n",
        "           \"Harry Potter and the Philosopher's Stone\",\n",
        "           \"26 June 1997\",\n",
        "           \"a wide adult audience as well as younger readers\",\n",
        "           \"eighty\"\n",
        "          ]\n",
        "\n",
        "for q,a in zip(queries,answers):\n",
        "  give_an_answer(context,q,a)"
      ]
    }
  ],
  "metadata": {
    "accelerator": "GPU",
    "colab": {
      "provenance": []
    },
    "gpuClass": "standard",
    "kernelspec": {
      "display_name": "Python 3",
      "name": "python3"
    }
  },
  "nbformat": 4,
  "nbformat_minor": 0
}